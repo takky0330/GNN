{
  "nbformat": 4,
  "nbformat_minor": 0,
  "metadata": {
    "colab": {
      "provenance": [],
      "toc_visible": true,
      "authorship_tag": "ABX9TyMn+VbZOGwkQ6nhPkQStfwu",
      "include_colab_link": true
    },
    "kernelspec": {
      "name": "python3",
      "display_name": "Python 3"
    },
    "language_info": {
      "name": "python"
    }
  },
  "cells": [
    {
      "cell_type": "markdown",
      "metadata": {
        "id": "view-in-github",
        "colab_type": "text"
      },
      "source": [
        "<a href=\"https://colab.research.google.com/github/takky0330/GNN/blob/main/torch_geometric.ipynb\" target=\"_parent\"><img src=\"https://colab.research.google.com/assets/colab-badge.svg\" alt=\"Open In Colab\"/></a>"
      ]
    },
    {
      "cell_type": "code",
      "source": [
        "!pip install torch_geometric"
      ],
      "metadata": {
        "colab": {
          "base_uri": "https://localhost:8080/"
        },
        "id": "Ob3PxT1QzCDu",
        "outputId": "0f115ee1-6bb2-4626-f607-6f05f2af3d57"
      },
      "execution_count": null,
      "outputs": [
        {
          "output_type": "stream",
          "name": "stdout",
          "text": [
            "Collecting torch_geometric\n",
            "  Downloading torch_geometric-2.6.1-py3-none-any.whl.metadata (63 kB)\n",
            "\u001b[?25l     \u001b[90m━━━━━━━━━━━━━━━━━━━━━━━━━━━━━━━━━━━━━━━━\u001b[0m \u001b[32m0.0/63.1 kB\u001b[0m \u001b[31m?\u001b[0m eta \u001b[36m-:--:--\u001b[0m\r\u001b[2K     \u001b[90m━━━━━━━━━━━━━━━━━━━━━━━━━━━━━━━━━━━━━━━━\u001b[0m \u001b[32m63.1/63.1 kB\u001b[0m \u001b[31m2.0 MB/s\u001b[0m eta \u001b[36m0:00:00\u001b[0m\n",
            "\u001b[?25hRequirement already satisfied: aiohttp in /usr/local/lib/python3.11/dist-packages (from torch_geometric) (3.11.13)\n",
            "Requirement already satisfied: fsspec in /usr/local/lib/python3.11/dist-packages (from torch_geometric) (2024.10.0)\n",
            "Requirement already satisfied: jinja2 in /usr/local/lib/python3.11/dist-packages (from torch_geometric) (3.1.6)\n",
            "Requirement already satisfied: numpy in /usr/local/lib/python3.11/dist-packages (from torch_geometric) (1.26.4)\n",
            "Requirement already satisfied: psutil>=5.8.0 in /usr/local/lib/python3.11/dist-packages (from torch_geometric) (5.9.5)\n",
            "Requirement already satisfied: pyparsing in /usr/local/lib/python3.11/dist-packages (from torch_geometric) (3.2.1)\n",
            "Requirement already satisfied: requests in /usr/local/lib/python3.11/dist-packages (from torch_geometric) (2.32.3)\n",
            "Requirement already satisfied: tqdm in /usr/local/lib/python3.11/dist-packages (from torch_geometric) (4.67.1)\n",
            "Requirement already satisfied: aiohappyeyeballs>=2.3.0 in /usr/local/lib/python3.11/dist-packages (from aiohttp->torch_geometric) (2.6.1)\n",
            "Requirement already satisfied: aiosignal>=1.1.2 in /usr/local/lib/python3.11/dist-packages (from aiohttp->torch_geometric) (1.3.2)\n",
            "Requirement already satisfied: attrs>=17.3.0 in /usr/local/lib/python3.11/dist-packages (from aiohttp->torch_geometric) (25.2.0)\n",
            "Requirement already satisfied: frozenlist>=1.1.1 in /usr/local/lib/python3.11/dist-packages (from aiohttp->torch_geometric) (1.5.0)\n",
            "Requirement already satisfied: multidict<7.0,>=4.5 in /usr/local/lib/python3.11/dist-packages (from aiohttp->torch_geometric) (6.1.0)\n",
            "Requirement already satisfied: propcache>=0.2.0 in /usr/local/lib/python3.11/dist-packages (from aiohttp->torch_geometric) (0.3.0)\n",
            "Requirement already satisfied: yarl<2.0,>=1.17.0 in /usr/local/lib/python3.11/dist-packages (from aiohttp->torch_geometric) (1.18.3)\n",
            "Requirement already satisfied: MarkupSafe>=2.0 in /usr/local/lib/python3.11/dist-packages (from jinja2->torch_geometric) (3.0.2)\n",
            "Requirement already satisfied: charset-normalizer<4,>=2 in /usr/local/lib/python3.11/dist-packages (from requests->torch_geometric) (3.4.1)\n",
            "Requirement already satisfied: idna<4,>=2.5 in /usr/local/lib/python3.11/dist-packages (from requests->torch_geometric) (3.10)\n",
            "Requirement already satisfied: urllib3<3,>=1.21.1 in /usr/local/lib/python3.11/dist-packages (from requests->torch_geometric) (2.3.0)\n",
            "Requirement already satisfied: certifi>=2017.4.17 in /usr/local/lib/python3.11/dist-packages (from requests->torch_geometric) (2025.1.31)\n",
            "Downloading torch_geometric-2.6.1-py3-none-any.whl (1.1 MB)\n",
            "\u001b[2K   \u001b[90m━━━━━━━━━━━━━━━━━━━━━━━━━━━━━━━━━━━━━━━━\u001b[0m \u001b[32m1.1/1.1 MB\u001b[0m \u001b[31m18.7 MB/s\u001b[0m eta \u001b[36m0:00:00\u001b[0m\n",
            "\u001b[?25hInstalling collected packages: torch_geometric\n",
            "Successfully installed torch_geometric-2.6.1\n"
          ]
        }
      ]
    },
    {
      "cell_type": "code",
      "source": [],
      "metadata": {
        "id": "XM5FumHr6TeA"
      },
      "execution_count": null,
      "outputs": []
    },
    {
      "cell_type": "code",
      "execution_count": null,
      "metadata": {
        "id": "a4gjAKm1ymZN"
      },
      "outputs": [],
      "source": [
        "import torch\n",
        "from torch_geometric.data import Data\n",
        "from torch_geometric.nn import GCNConv"
      ]
    },
    {
      "cell_type": "code",
      "source": [
        "#'''\n",
        "# ----- 例: ユーザ + 設問を含む小さなグラフを仮定 -----\n",
        "# X: ノード特徴量行列 (num_nodes x num_features)\n",
        "# y: ノードラベル (num_nodes)\n",
        "# edge_index: (2 x num_edges) の隣接情報 [source_nodes; target_nodes]\n",
        "\n",
        "X = torch.tensor([\n",
        "    [0.1, 0.5],  # User1の特徴量 (例:属性,すでに回答した質問数など)\n",
        "    [0.2, 0.6],  # User2\n",
        "    [0.9, 0.3],  # Question1\n",
        "    [0.8, 0.4]   # Question2\n",
        "], dtype=torch.float)\n",
        "\n",
        "y = torch.tensor([1, 0, 2, 2])  # ノード分類用のラベル (ユーザノード: 0 or 1, 質問ノード: 2など 適当に仮定)\n",
        "edge_index = torch.tensor([\n",
        "    [0, 1, 0, 2, 1, 3],  # sourceノードID\n",
        "    [1, 0, 2, 0, 3, 1]   # targetノードID\n",
        "], dtype=torch.long)\n",
        "\n",
        "data = Data(x=X, edge_index=edge_index, y=y)"
      ],
      "metadata": {
        "id": "aZWyK6J0yzgI"
      },
      "execution_count": null,
      "outputs": []
    },
    {
      "cell_type": "code",
      "source": [
        "# 例: 8ノード (ユーザ/設問などの混在を想定)、3次元のノード特徴量\n",
        "X = torch.tensor([\n",
        "    [0.1, 0.5, 0.2],  # Node 0\n",
        "    [0.2, 0.6, 0.3],  # Node 1\n",
        "    [0.9, 0.3, 0.1],  # Node 2\n",
        "    [0.8, 0.4, 0.4],  # Node 3\n",
        "    [0.4, 0.8, 0.5],  # Node 4\n",
        "    [0.2, 0.1, 0.7],  # Node 5\n",
        "    [0.7, 0.9, 0.6],  # Node 6\n",
        "    [0.5, 0.2, 0.8],  # Node 7\n",
        "], dtype=torch.float)\n",
        "\n",
        "# 例: 各ノードのクラス (0, 1, 2) のいずれかとする\n",
        "y = torch.tensor([2, 0, 1, 2, 0, 1, 2, 0], dtype=torch.long)\n",
        "\n",
        "# edge_index: (2 x E) のテンソルで無向エッジを定義\n",
        "# 下記は一例として、ノードを適当に双方向で結んでいます\n",
        "edge_index = torch.tensor([\n",
        "    [0, 1, 0, 2, 1, 3, 2, 4, 3, 5, 4, 6, 5, 7, 6, 7, 6, 2],\n",
        "    [1, 0, 2, 0, 3, 1, 4, 2, 5, 3, 6, 4, 7, 5, 7, 6, 2, 6]\n",
        "], dtype=torch.long)\n",
        "\n",
        "data = Data(x=X, edge_index=edge_index, y=y)"
      ],
      "metadata": {
        "id": "MNG_aV7u2Dpr"
      },
      "execution_count": null,
      "outputs": []
    },
    {
      "cell_type": "code",
      "source": [
        "#'''\n",
        "# ----- GCNモデル定義 -----\n",
        "class SimpleGCN(torch.nn.Module):\n",
        "    def __init__(self, in_channels, hidden_channels, out_channels):\n",
        "        super(SimpleGCN, self).__init__()\n",
        "        self.conv1 = GCNConv(in_channels, hidden_channels)\n",
        "        self.conv2 = GCNConv(hidden_channels, out_channels)\n",
        "\n",
        "    def forward(self, data):\n",
        "        x, edge_index = data.x, data.edge_index\n",
        "        x = self.conv1(x, edge_index)\n",
        "        x = torch.relu(x)\n",
        "        x = self.conv2(x, edge_index)\n",
        "        return x"
      ],
      "metadata": {
        "id": "-Plcogo0zP0Q"
      },
      "execution_count": null,
      "outputs": []
    },
    {
      "cell_type": "code",
      "source": [
        "class SimpleGCN(torch.nn.Module):\n",
        "    def __init__(self, in_channels, hidden_channels, out_channels):\n",
        "        super(SimpleGCN, self).__init__()\n",
        "        self.conv1 = GCNConv(in_channels, hidden_channels)\n",
        "        self.conv2 = GCNConv(hidden_channels, out_channels)\n",
        "\n",
        "    def forward(self, data):\n",
        "        x, edge_index = data.x, data.edge_index\n",
        "        x = self.conv1(x, edge_index)\n",
        "        x = torch.relu(x)\n",
        "        x = self.conv2(x, edge_index)\n",
        "        return x"
      ],
      "metadata": {
        "id": "x_VPa5op20Bp"
      },
      "execution_count": null,
      "outputs": []
    },
    {
      "cell_type": "code",
      "source": [
        "#'''\n",
        "model = SimpleGCN(in_channels=2, hidden_channels=4, out_channels=3)  # ラベルが3種類想定\n",
        "criterion = torch.nn.CrossEntropyLoss()\n",
        "optimizer = torch.optim.Adam(model.parameters(), lr=0.01)"
      ],
      "metadata": {
        "colab": {
          "base_uri": "https://localhost:8080/",
          "height": 53
        },
        "id": "Vk5YCDe9zUPO",
        "outputId": "f13b5e97-5085-4f91-90cf-74f99d1f67f5"
      },
      "execution_count": null,
      "outputs": [
        {
          "output_type": "execute_result",
          "data": {
            "text/plain": [
              "'\\nmodel = SimpleGCN(in_channels=2, hidden_channels=4, out_channels=3)  # ラベルが3種類想定\\ncriterion = torch.nn.CrossEntropyLoss()\\noptimizer = torch.optim.Adam(model.parameters(), lr=0.01)\\n'"
            ],
            "application/vnd.google.colaboratory.intrinsic+json": {
              "type": "string"
            }
          },
          "metadata": {},
          "execution_count": 24
        }
      ]
    },
    {
      "cell_type": "code",
      "source": [
        "# 入力次元(in_channels)は3、出力次元(out_channels)はここでは3クラス想定\n",
        "model = SimpleGCN(in_channels=3, hidden_channels=4, out_channels=3)\n",
        "criterion = torch.nn.CrossEntropyLoss()\n",
        "optimizer = torch.optim.Adam(model.parameters(), lr=0.01)"
      ],
      "metadata": {
        "id": "CJDoi-2628bS"
      },
      "execution_count": null,
      "outputs": []
    },
    {
      "cell_type": "code",
      "source": [
        "# ----- 学習ループ -----\n",
        "model.train()\n",
        "for epoch in range(100):\n",
        "    optimizer.zero_grad()\n",
        "    out = model(data)\n",
        "    loss = criterion(out, data.y)\n",
        "    loss.backward()\n",
        "    optimizer.step()\n",
        "\n",
        "    if epoch % 10 == 0:\n",
        "        print(f\"Epoch {epoch}, Loss: {loss.item():.4f}\")"
      ],
      "metadata": {
        "colab": {
          "base_uri": "https://localhost:8080/"
        },
        "id": "Yj1p6r6gzY4r",
        "outputId": "783f68fd-c87b-45a9-8faa-4d46a09bb6fd"
      },
      "execution_count": null,
      "outputs": [
        {
          "output_type": "stream",
          "name": "stdout",
          "text": [
            "Epoch 0, Loss: 1.1678\n",
            "Epoch 10, Loss: 1.0999\n",
            "Epoch 20, Loss: 1.0840\n",
            "Epoch 30, Loss: 1.0821\n",
            "Epoch 40, Loss: 1.0821\n",
            "Epoch 50, Loss: 1.0820\n",
            "Epoch 60, Loss: 1.0817\n",
            "Epoch 70, Loss: 1.0808\n",
            "Epoch 80, Loss: 1.0804\n",
            "Epoch 90, Loss: 1.0797\n"
          ]
        }
      ]
    },
    {
      "cell_type": "code",
      "source": [
        "# ----- 推論 (ノード分類の例) -----\n",
        "model.eval()\n",
        "pred = model(data).argmax(dim=1)\n",
        "print(\"Predicted labels:\", pred)"
      ],
      "metadata": {
        "colab": {
          "base_uri": "https://localhost:8080/"
        },
        "id": "ggdMXZKmzc8A",
        "outputId": "f0ce5ede-486f-48ee-e330-53016cc519b4"
      },
      "execution_count": null,
      "outputs": [
        {
          "output_type": "stream",
          "name": "stdout",
          "text": [
            "Predicted labels: tensor([0, 0, 0, 2, 0, 2, 2, 2])\n"
          ]
        }
      ]
    },
    {
      "cell_type": "code",
      "source": [],
      "metadata": {
        "id": "CRYRxG2ZziQb"
      },
      "execution_count": null,
      "outputs": []
    }
  ]
}