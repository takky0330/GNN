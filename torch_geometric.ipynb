{
  "nbformat": 4,
  "nbformat_minor": 0,
  "metadata": {
    "colab": {
      "provenance": [],
      "toc_visible": true,
      "authorship_tag": "ABX9TyNdyj7jS6upH7LH60UK37MC",
      "include_colab_link": true
    },
    "kernelspec": {
      "name": "python3",
      "display_name": "Python 3"
    },
    "language_info": {
      "name": "python"
    }
  },
  "cells": [
    {
      "cell_type": "markdown",
      "metadata": {
        "id": "view-in-github",
        "colab_type": "text"
      },
      "source": [
        "<a href=\"https://colab.research.google.com/github/takky0330/GNN/blob/main/torch_geometric.ipynb\" target=\"_parent\"><img src=\"https://colab.research.google.com/assets/colab-badge.svg\" alt=\"Open In Colab\"/></a>"
      ]
    },
    {
      "cell_type": "code",
      "source": [
        "!pip install torch_geometric"
      ],
      "metadata": {
        "id": "Ob3PxT1QzCDu"
      },
      "execution_count": null,
      "outputs": []
    },
    {
      "cell_type": "code",
      "execution_count": null,
      "metadata": {
        "id": "a4gjAKm1ymZN"
      },
      "outputs": [],
      "source": [
        "import torch\n",
        "from torch_geometric.data import Data\n",
        "from torch_geometric.nn import GCNConv"
      ]
    },
    {
      "cell_type": "code",
      "source": [
        "#'''\n",
        "# ----- 例: ユーザ + 設問を含む小さなグラフを仮定 -----\n",
        "# X: ノード特徴量行列 (num_nodes x num_features)\n",
        "# y: ノードラベル (num_nodes)\n",
        "# edge_index: (2 x num_edges) の隣接情報 [source_nodes; target_nodes]\n",
        "\n",
        "X = torch.tensor([\n",
        "    [0.1, 0.5],  # User1の特徴量 (例:属性,すでに回答した質問数など)\n",
        "    [0.2, 0.6],  # User2\n",
        "    [0.9, 0.3],  # Question1\n",
        "    [0.8, 0.4]   # Question2\n",
        "], dtype=torch.float)\n",
        "\n",
        "y = torch.tensor([1, 0, 2, 2])  # ノード分類用のラベル (ユーザノード: 0 or 1, 質問ノード: 2など 適当に仮定)\n",
        "edge_index = torch.tensor([\n",
        "    [0, 1, 0, 2, 1, 3],  # sourceノードID\n",
        "    [1, 0, 2, 0, 3, 1]   # targetノードID\n",
        "], dtype=torch.long)\n",
        "\n",
        "data = Data(x=X, edge_index=edge_index, y=y)"
      ],
      "metadata": {
        "id": "aZWyK6J0yzgI"
      },
      "execution_count": null,
      "outputs": []
    },
    {
      "cell_type": "code",
      "source": [
        "# 例: 8ノード (ユーザ/設問などの混在を想定)、3次元のノード特徴量\n",
        "X = torch.tensor([\n",
        "    [0.1, 0.5, 0.2],  # Node 0\n",
        "    [0.2, 0.6, 0.3],  # Node 1\n",
        "    [0.9, 0.3, 0.1],  # Node 2\n",
        "    [0.8, 0.4, 0.4],  # Node 3\n",
        "    [0.4, 0.8, 0.5],  # Node 4\n",
        "    [0.2, 0.1, 0.7],  # Node 5\n",
        "    [0.7, 0.9, 0.6],  # Node 6\n",
        "    [0.5, 0.2, 0.8],  # Node 7\n",
        "], dtype=torch.float)\n",
        "\n",
        "# 例: 各ノードのクラス (0, 1, 2) のいずれかとする\n",
        "y = torch.tensor([2, 0, 1, 2, 0, 1, 2, 0], dtype=torch.long)\n",
        "\n",
        "# edge_index: (2 x E) のテンソルで無向エッジを定義\n",
        "# 下記は一例として、ノードを適当に双方向で結んでいます\n",
        "edge_index = torch.tensor([\n",
        "    [0, 1, 0, 2, 1, 3, 2, 4, 3, 5, 4, 6, 5, 7, 6, 7, 6, 2],\n",
        "    [1, 0, 2, 0, 3, 1, 4, 2, 5, 3, 6, 4, 7, 5, 7, 6, 2, 6]\n",
        "], dtype=torch.long)\n",
        "\n",
        "data = Data(x=X, edge_index=edge_index, y=y)"
      ],
      "metadata": {
        "id": "MNG_aV7u2Dpr"
      },
      "execution_count": null,
      "outputs": []
    },
    {
      "cell_type": "code",
      "source": [
        "#'''\n",
        "# ----- GCNモデル定義 -----\n",
        "class SimpleGCN(torch.nn.Module):\n",
        "    def __init__(self, in_channels, hidden_channels, out_channels):\n",
        "        super(SimpleGCN, self).__init__()\n",
        "        self.conv1 = GCNConv(in_channels, hidden_channels)\n",
        "        self.conv2 = GCNConv(hidden_channels, out_channels)\n",
        "\n",
        "    def forward(self, data):\n",
        "        x, edge_index = data.x, data.edge_index\n",
        "        x = self.conv1(x, edge_index)\n",
        "        x = torch.relu(x)\n",
        "        x = self.conv2(x, edge_index)\n",
        "        return x"
      ],
      "metadata": {
        "id": "-Plcogo0zP0Q"
      },
      "execution_count": null,
      "outputs": []
    },
    {
      "cell_type": "code",
      "source": [
        "class SimpleGCN(torch.nn.Module):\n",
        "    def __init__(self, in_channels, hidden_channels, out_channels):\n",
        "        super(SimpleGCN, self).__init__()\n",
        "        self.conv1 = GCNConv(in_channels, hidden_channels)\n",
        "        self.conv2 = GCNConv(hidden_channels, out_channels)\n",
        "\n",
        "    def forward(self, data):\n",
        "        x, edge_index = data.x, data.edge_index\n",
        "        x = self.conv1(x, edge_index)\n",
        "        x = torch.relu(x)\n",
        "        x = self.conv2(x, edge_index)\n",
        "        return x"
      ],
      "metadata": {
        "id": "x_VPa5op20Bp"
      },
      "execution_count": null,
      "outputs": []
    },
    {
      "cell_type": "code",
      "source": [
        "#'''\n",
        "model = SimpleGCN(in_channels=2, hidden_channels=4, out_channels=3)  # ラベルが3種類想定\n",
        "criterion = torch.nn.CrossEntropyLoss()\n",
        "optimizer = torch.optim.Adam(model.parameters(), lr=0.01)"
      ],
      "metadata": {
        "id": "Vk5YCDe9zUPO"
      },
      "execution_count": null,
      "outputs": []
    },
    {
      "cell_type": "code",
      "source": [
        "# 入力次元(in_channels)は3、出力次元(out_channels)はここでは3クラス想定\n",
        "model = SimpleGCN(in_channels=3, hidden_channels=4, out_channels=3)\n",
        "criterion = torch.nn.CrossEntropyLoss()\n",
        "optimizer = torch.optim.Adam(model.parameters(), lr=0.01)"
      ],
      "metadata": {
        "id": "CJDoi-2628bS"
      },
      "execution_count": null,
      "outputs": []
    },
    {
      "cell_type": "code",
      "source": [
        "# ----- 学習ループ -----\n",
        "model.train()\n",
        "for epoch in range(100):\n",
        "    optimizer.zero_grad()\n",
        "    out = model(data)\n",
        "    loss = criterion(out, data.y)\n",
        "    loss.backward()\n",
        "    optimizer.step()\n",
        "\n",
        "    if epoch % 10 == 0:\n",
        "        print(f\"Epoch {epoch}, Loss: {loss.item():.4f}\")"
      ],
      "metadata": {
        "id": "Yj1p6r6gzY4r"
      },
      "execution_count": null,
      "outputs": []
    },
    {
      "cell_type": "code",
      "source": [
        "# ----- 推論 (ノード分類の例) -----\n",
        "model.eval()\n",
        "pred = model(data).argmax(dim=1)\n",
        "print(\"Predicted labels:\", pred)"
      ],
      "metadata": {
        "id": "ggdMXZKmzc8A"
      },
      "execution_count": null,
      "outputs": []
    },
    {
      "cell_type": "code",
      "source": [],
      "metadata": {
        "id": "CRYRxG2ZziQb"
      },
      "execution_count": null,
      "outputs": []
    }
  ]
}